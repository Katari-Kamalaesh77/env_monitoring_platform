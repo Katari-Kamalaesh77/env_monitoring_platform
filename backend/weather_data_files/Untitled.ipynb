{
 "cells": [
  {
   "cell_type": "code",
   "execution_count": null,
   "id": "5600350b-a4a7-4252-958a-3c84f9761d1f",
   "metadata": {},
   "outputs": [],
   "source": [
    "python D:\\env_monitoring_platform\\backend\\weather_data_files\\weather_eda_analysis.py"
   ]
  },
  {
   "cell_type": "code",
   "execution_count": null,
   "id": "aab6bd4c-5307-4b18-86c5-a2096318f9cf",
   "metadata": {},
   "outputs": [],
   "source": [
    "python weather_eda_analysis.py"
   ]
  },
  {
   "cell_type": "code",
   "execution_count": null,
   "id": "909f14b3-3a65-4b89-b830-2110a81b298d",
   "metadata": {},
   "outputs": [],
   "source": [
    "%run weather_eda_analysis.py"
   ]
  },
  {
   "cell_type": "code",
   "execution_count": null,
   "id": "bbfe5976-9a1e-4468-9195-f02da4f9b96b",
   "metadata": {},
   "outputs": [],
   "source": [
    "%run weather_eda_analysis.py"
   ]
  },
  {
   "cell_type": "code",
   "execution_count": null,
   "id": "0449daa0-8711-4b07-b81b-d7f7eb911127",
   "metadata": {},
   "outputs": [],
   "source": [
    "%run weather_cleaning.py"
   ]
  },
  {
   "cell_type": "code",
   "execution_count": null,
   "id": "6f0b2a7a-3aec-4433-bd73-1cc13c85262d",
   "metadata": {},
   "outputs": [],
   "source": [
    "%run weather_eda_analysis_cleaned.py"
   ]
  },
  {
   "cell_type": "code",
   "execution_count": null,
   "id": "1f58e2da-1973-4937-8314-dc3b9959daf8",
   "metadata": {},
   "outputs": [],
   "source": [
    "%run weather_cleaning_v2.py"
   ]
  },
  {
   "cell_type": "code",
   "execution_count": null,
   "id": "578c19bd-6774-4271-886b-c8242ec63610",
   "metadata": {},
   "outputs": [],
   "source": [
    "%run prophet_weather_univariate.py"
   ]
  },
  {
   "cell_type": "code",
   "execution_count": null,
   "id": "455b59a8-4526-4615-8f5d-587862d1a9be",
   "metadata": {},
   "outputs": [],
   "source": [
    "pip install prophet"
   ]
  },
  {
   "cell_type": "code",
   "execution_count": null,
   "id": "ce358b67-d71e-416c-8527-9b6e97b93dcd",
   "metadata": {},
   "outputs": [],
   "source": [
    "%run prophet_weather_univariate.py"
   ]
  },
  {
   "cell_type": "code",
   "execution_count": null,
   "id": "46d973bf-6847-4bd2-bb30-0c85fddd631f",
   "metadata": {},
   "outputs": [],
   "source": [
    "import pandas as pd\n",
    "\n",
    "df = pd.read_csv(\"cleaned_weather_data.csv\")\n",
    "print(\"Column names:\\n\")\n",
    "for col in df.columns:\n",
    "    print(f\"'{col}'\")\n"
   ]
  },
  {
   "cell_type": "code",
   "execution_count": null,
   "id": "7e2c3a66-d3e2-40ef-a09e-f1fd0c0f7839",
   "metadata": {},
   "outputs": [],
   "source": [
    "%run prophet_weather_univariate.py"
   ]
  },
  {
   "cell_type": "code",
   "execution_count": null,
   "id": "52a663aa-b4f7-43e0-8c82-50fa8a7f2995",
   "metadata": {},
   "outputs": [],
   "source": [
    "%run prophet_weather_univariate_all.py"
   ]
  },
  {
   "cell_type": "code",
   "execution_count": null,
   "id": "7a2d9f18-e091-4036-ba23-ba5c518c9813",
   "metadata": {},
   "outputs": [],
   "source": [
    "%run sarima_weather_univariate.py"
   ]
  },
  {
   "cell_type": "code",
   "execution_count": null,
   "id": "2595d3cd-3fb6-4e3f-ad8e-f38a1bb11056",
   "metadata": {},
   "outputs": [],
   "source": [
    "import pandas as pd\n",
    "\n",
    "df = pd.read_csv(\"processed_weather_data.csv\", parse_dates=[\"DATE\"], low_memory=False)\n",
    "print(df.columns.tolist())\n"
   ]
  },
  {
   "cell_type": "code",
   "execution_count": 1,
   "id": "f26f5d09-49a4-4fa5-8111-5e8d71065e1f",
   "metadata": {},
   "outputs": [
    {
     "name": "stdout",
     "output_type": "stream",
     "text": [
      "Performing stepwise search to minimize aic\n",
      " ARIMA(2,0,2)(1,0,1)[12] intercept   : AIC=inf, Time=55.96 sec\n",
      " ARIMA(0,0,0)(0,0,0)[12] intercept   : AIC=198345.059, Time=0.32 sec\n",
      " ARIMA(1,0,0)(1,0,0)[12] intercept   : AIC=152507.167, Time=14.47 sec\n",
      " ARIMA(0,0,1)(0,0,1)[12] intercept   : AIC=169466.892, Time=10.50 sec\n",
      " ARIMA(0,0,0)(0,0,0)[12]             : AIC=238094.997, Time=0.18 sec\n",
      " ARIMA(1,0,0)(0,0,0)[12] intercept   : AIC=152537.119, Time=0.85 sec\n",
      " ARIMA(1,0,0)(2,0,0)[12] intercept   : AIC=152424.876, Time=52.03 sec\n",
      " ARIMA(1,0,0)(2,0,1)[12] intercept   : AIC=inf, Time=64.75 sec\n",
      " ARIMA(1,0,0)(1,0,1)[12] intercept   : AIC=152375.977, Time=65.64 sec\n",
      " ARIMA(1,0,0)(0,0,1)[12] intercept   : AIC=152510.573, Time=6.55 sec\n",
      " ARIMA(1,0,0)(1,0,2)[12] intercept   : AIC=inf, Time=72.32 sec\n",
      " ARIMA(1,0,0)(0,0,2)[12] intercept   : AIC=152441.477, Time=23.39 sec\n",
      " ARIMA(1,0,0)(2,0,2)[12] intercept   : AIC=inf, Time=109.65 sec\n",
      " ARIMA(0,0,0)(1,0,1)[12] intercept   : AIC=171829.014, Time=56.73 sec\n",
      " ARIMA(2,0,0)(1,0,1)[12] intercept   : AIC=inf, Time=26.77 sec\n",
      " ARIMA(1,0,1)(1,0,1)[12] intercept   : AIC=inf, Time=29.08 sec\n",
      " ARIMA(0,0,1)(1,0,1)[12] intercept   : AIC=160452.053, Time=39.31 sec\n",
      " ARIMA(2,0,1)(1,0,1)[12] intercept   : AIC=inf, Time=49.62 sec\n",
      " ARIMA(1,0,0)(1,0,1)[12]             : AIC=inf, Time=22.44 sec\n",
      "\n",
      "Best model:  ARIMA(1,0,0)(1,0,1)[12] intercept\n",
      "Total fit time: 700.620 seconds\n",
      "Best SARIMA model:                                       SARIMAX Results                                       \n",
      "============================================================================================\n",
      "Dep. Variable:                                    y   No. Observations:                26849\n",
      "Model:             SARIMAX(1, 0, 0)x(1, 0, [1], 12)   Log Likelihood              -76182.989\n",
      "Date:                              Sat, 19 Apr 2025   AIC                         152375.977\n",
      "Time:                                      15:25:20   BIC                         152416.967\n",
      "Sample:                                           0   HQIC                        152389.199\n",
      "                                            - 26849                                         \n",
      "Covariance Type:                                opg                                         \n",
      "==============================================================================\n",
      "                 coef    std err          z      P>|z|      [0.025      0.975]\n",
      "------------------------------------------------------------------------------\n",
      "intercept      0.5967      0.069      8.675      0.000       0.462       0.732\n",
      "ar.L1          0.8785      0.003    268.483      0.000       0.872       0.885\n",
      "ar.S.L12       0.7258      0.031     23.453      0.000       0.665       0.786\n",
      "ma.S.L12      -0.6570      0.033    -19.679      0.000      -0.722      -0.592\n",
      "sigma2        17.0644      0.120    141.642      0.000      16.828      17.301\n",
      "===================================================================================\n",
      "Ljung-Box (L1) (Q):                 189.32   Jarque-Bera (JB):              2709.59\n",
      "Prob(Q):                              0.00   Prob(JB):                         0.00\n",
      "Heteroskedasticity (H):               0.87   Skew:                            -0.42\n",
      "Prob(H) (two-sided):                  0.00   Kurtosis:                         4.32\n",
      "===================================================================================\n",
      "\n",
      "Warnings:\n",
      "[1] Covariance matrix calculated using the outer product of gradients (complex-step).\n"
     ]
    },
    {
     "name": "stderr",
     "output_type": "stream",
     "text": [
      "E:\\anaconda3\\envs\\env_monitoring\\lib\\site-packages\\statsmodels\\tsa\\base\\tsa_model.py:473: ValueWarning: A date index has been provided, but it has no associated frequency information and so will be ignored when e.g. forecasting.\n",
      "  self._init_dates(dates, freq)\n",
      "E:\\anaconda3\\envs\\env_monitoring\\lib\\site-packages\\statsmodels\\tsa\\base\\tsa_model.py:473: ValueWarning: A date index has been provided, but it is not monotonic and so will be ignored when e.g. forecasting.\n",
      "  self._init_dates(dates, freq)\n",
      "E:\\anaconda3\\envs\\env_monitoring\\lib\\site-packages\\statsmodels\\tsa\\base\\tsa_model.py:473: ValueWarning: A date index has been provided, but it has no associated frequency information and so will be ignored when e.g. forecasting.\n",
      "  self._init_dates(dates, freq)\n",
      "E:\\anaconda3\\envs\\env_monitoring\\lib\\site-packages\\statsmodels\\tsa\\base\\tsa_model.py:473: ValueWarning: A date index has been provided, but it is not monotonic and so will be ignored when e.g. forecasting.\n",
      "  self._init_dates(dates, freq)\n",
      "E:\\anaconda3\\envs\\env_monitoring\\lib\\site-packages\\statsmodels\\tsa\\base\\tsa_model.py:836: ValueWarning: No supported index is available. Prediction results will be given with an integer index beginning at `start`.\n",
      "  return get_prediction_index(\n",
      "E:\\anaconda3\\envs\\env_monitoring\\lib\\site-packages\\statsmodels\\tsa\\base\\tsa_model.py:836: FutureWarning: No supported index is available. In the next version, calling this method in a model without a supported index will result in an exception.\n",
      "  return get_prediction_index(\n"
     ]
    },
    {
     "data": {
      "image/png": "[encoded data removed]",
      "text/plain": [
       "<Figure size 1200x600 with 1 Axes>"
      ]
     },
     "metadata": {},
     "output_type": "display_data"
    }
   ],
   "source": [
    "%run sarima_weather_univariate.py"
   ]
  },
  {
   "cell_type": "code",
   "execution_count": 2,
   "id": "f98f6083-8507-4e95-9e67-669138c3530a",
   "metadata": {},
   "outputs": [
    {
     "ename": "KeyError",
     "evalue": "\"Column(s) ['TAVG_C', 'TMAX_C', 'TMIN_C'] do not exist\"",
     "output_type": "error",
     "traceback": [
      "\u001b[1;31m---------------------------------------------------------------------------\u001b[0m",
      "\u001b[1;31mKeyError\u001b[0m                                  Traceback (most recent call last)",
      "File \u001b[1;32mD:\\env_monitoring_platform\\backend\\weather_data_files\\sarima_weather_univariate.py:15\u001b[0m\n\u001b[0;32m     12\u001b[0m df \u001b[38;5;241m=\u001b[39m pd\u001b[38;5;241m.\u001b[39mread_csv(\u001b[38;5;124m\"\u001b[39m\u001b[38;5;124mcleaned_weather_data.csv\u001b[39m\u001b[38;5;124m\"\u001b[39m, parse_dates\u001b[38;5;241m=\u001b[39m[\u001b[38;5;124m\"\u001b[39m\u001b[38;5;124mDATE\u001b[39m\u001b[38;5;124m\"\u001b[39m], low_memory\u001b[38;5;241m=\u001b[39m\u001b[38;5;28;01mFalse\u001b[39;00m)\n\u001b[0;32m     14\u001b[0m \u001b[38;5;66;03m# Aggregate to daily average if multiple entries exist per day\u001b[39;00m\n\u001b[1;32m---> 15\u001b[0m daily_weather \u001b[38;5;241m=\u001b[39m \u001b[43mdf\u001b[49m\u001b[38;5;241;43m.\u001b[39;49m\u001b[43mgroupby\u001b[49m\u001b[43m(\u001b[49m\u001b[38;5;124;43m\"\u001b[39;49m\u001b[38;5;124;43mDATE\u001b[39;49m\u001b[38;5;124;43m\"\u001b[39;49m\u001b[43m)\u001b[49m\u001b[38;5;241;43m.\u001b[39;49m\u001b[43magg\u001b[49m\u001b[43m(\u001b[49m\u001b[43m{\u001b[49m\n\u001b[0;32m     16\u001b[0m \u001b[43m    \u001b[49m\u001b[38;5;124;43m\"\u001b[39;49m\u001b[38;5;124;43mTMAX_C\u001b[39;49m\u001b[38;5;124;43m\"\u001b[39;49m\u001b[43m:\u001b[49m\u001b[43m \u001b[49m\u001b[38;5;124;43m\"\u001b[39;49m\u001b[38;5;124;43mmean\u001b[39;49m\u001b[38;5;124;43m\"\u001b[39;49m\u001b[43m,\u001b[49m\n\u001b[0;32m     17\u001b[0m \u001b[43m    \u001b[49m\u001b[38;5;124;43m\"\u001b[39;49m\u001b[38;5;124;43mTMIN_C\u001b[39;49m\u001b[38;5;124;43m\"\u001b[39;49m\u001b[43m:\u001b[49m\u001b[43m \u001b[49m\u001b[38;5;124;43m\"\u001b[39;49m\u001b[38;5;124;43mmean\u001b[39;49m\u001b[38;5;124;43m\"\u001b[39;49m\u001b[43m,\u001b[49m\n\u001b[0;32m     18\u001b[0m \u001b[43m    \u001b[49m\u001b[38;5;124;43m\"\u001b[39;49m\u001b[38;5;124;43mTAVG_C\u001b[39;49m\u001b[38;5;124;43m\"\u001b[39;49m\u001b[43m:\u001b[49m\u001b[43m \u001b[49m\u001b[38;5;124;43m\"\u001b[39;49m\u001b[38;5;124;43mmean\u001b[39;49m\u001b[38;5;124;43m\"\u001b[39;49m\n\u001b[0;32m     19\u001b[0m \u001b[43m}\u001b[49m\u001b[43m)\u001b[49m\u001b[38;5;241m.\u001b[39mreset_index()\n\u001b[0;32m     21\u001b[0m \u001b[38;5;66;03m# Ensure output directory exists\u001b[39;00m\n\u001b[0;32m     22\u001b[0m os\u001b[38;5;241m.\u001b[39mmakedirs(\u001b[38;5;124m\"\u001b[39m\u001b[38;5;124msarima_outputs\u001b[39m\u001b[38;5;124m\"\u001b[39m, exist_ok\u001b[38;5;241m=\u001b[39m\u001b[38;5;28;01mTrue\u001b[39;00m)\n",
      "File \u001b[1;32mE:\\anaconda3\\envs\\env_monitoring\\lib\\site-packages\\pandas\\core\\groupby\\generic.py:1269\u001b[0m, in \u001b[0;36mDataFrameGroupBy.aggregate\u001b[1;34m(self, func, engine, engine_kwargs, *args, **kwargs)\u001b[0m\n\u001b[0;32m   1266\u001b[0m func \u001b[38;5;241m=\u001b[39m maybe_mangle_lambdas(func)\n\u001b[0;32m   1268\u001b[0m op \u001b[38;5;241m=\u001b[39m GroupByApply(\u001b[38;5;28mself\u001b[39m, func, args, kwargs)\n\u001b[1;32m-> 1269\u001b[0m result \u001b[38;5;241m=\u001b[39m \u001b[43mop\u001b[49m\u001b[38;5;241;43m.\u001b[39;49m\u001b[43magg\u001b[49m\u001b[43m(\u001b[49m\u001b[43m)\u001b[49m\n\u001b[0;32m   1270\u001b[0m \u001b[38;5;28;01mif\u001b[39;00m \u001b[38;5;129;01mnot\u001b[39;00m is_dict_like(func) \u001b[38;5;129;01mand\u001b[39;00m result \u001b[38;5;129;01mis\u001b[39;00m \u001b[38;5;129;01mnot\u001b[39;00m \u001b[38;5;28;01mNone\u001b[39;00m:\n\u001b[0;32m   1271\u001b[0m     \u001b[38;5;28;01mreturn\u001b[39;00m result\n",
      "File \u001b[1;32mE:\\anaconda3\\envs\\env_monitoring\\lib\\site-packages\\pandas\\core\\apply.py:163\u001b[0m, in \u001b[0;36mApply.agg\u001b[1;34m(self)\u001b[0m\n\u001b[0;32m    160\u001b[0m     \u001b[38;5;28;01mreturn\u001b[39;00m \u001b[38;5;28mself\u001b[39m\u001b[38;5;241m.\u001b[39mapply_str()\n\u001b[0;32m    162\u001b[0m \u001b[38;5;28;01mif\u001b[39;00m is_dict_like(arg):\n\u001b[1;32m--> 163\u001b[0m     \u001b[38;5;28;01mreturn\u001b[39;00m \u001b[38;5;28;43mself\u001b[39;49m\u001b[38;5;241;43m.\u001b[39;49m\u001b[43magg_dict_like\u001b[49m\u001b[43m(\u001b[49m\u001b[43m)\u001b[49m\n\u001b[0;32m    164\u001b[0m \u001b[38;5;28;01melif\u001b[39;00m is_list_like(arg):\n\u001b[0;32m    165\u001b[0m     \u001b[38;5;66;03m# we require a list, but not a 'str'\u001b[39;00m\n\u001b[0;32m    166\u001b[0m     \u001b[38;5;28;01mreturn\u001b[39;00m \u001b[38;5;28mself\u001b[39m\u001b[38;5;241m.\u001b[39magg_list_like()\n",
      "File \u001b[1;32mE:\\anaconda3\\envs\\env_monitoring\\lib\\site-packages\\pandas\\core\\apply.py:403\u001b[0m, in \u001b[0;36mApply.agg_dict_like\u001b[1;34m(self)\u001b[0m\n\u001b[0;32m    400\u001b[0m     selected_obj \u001b[38;5;241m=\u001b[39m obj\u001b[38;5;241m.\u001b[39m_selected_obj\n\u001b[0;32m    401\u001b[0m     selection \u001b[38;5;241m=\u001b[39m obj\u001b[38;5;241m.\u001b[39m_selection\n\u001b[1;32m--> 403\u001b[0m arg \u001b[38;5;241m=\u001b[39m \u001b[38;5;28;43mself\u001b[39;49m\u001b[38;5;241;43m.\u001b[39;49m\u001b[43mnormalize_dictlike_arg\u001b[49m\u001b[43m(\u001b[49m\u001b[38;5;124;43m\"\u001b[39;49m\u001b[38;5;124;43magg\u001b[39;49m\u001b[38;5;124;43m\"\u001b[39;49m\u001b[43m,\u001b[49m\u001b[43m \u001b[49m\u001b[43mselected_obj\u001b[49m\u001b[43m,\u001b[49m\u001b[43m \u001b[49m\u001b[43marg\u001b[49m\u001b[43m)\u001b[49m\n\u001b[0;32m    405\u001b[0m is_groupby \u001b[38;5;241m=\u001b[39m \u001b[38;5;28misinstance\u001b[39m(obj, (DataFrameGroupBy, SeriesGroupBy))\n\u001b[0;32m    406\u001b[0m context_manager: ContextManager\n",
      "File \u001b[1;32mE:\\anaconda3\\envs\\env_monitoring\\lib\\site-packages\\pandas\\core\\apply.py:535\u001b[0m, in \u001b[0;36mApply.normalize_dictlike_arg\u001b[1;34m(self, how, obj, func)\u001b[0m\n\u001b[0;32m    533\u001b[0m     \u001b[38;5;28;01mif\u001b[39;00m \u001b[38;5;28mlen\u001b[39m(cols) \u001b[38;5;241m>\u001b[39m \u001b[38;5;241m0\u001b[39m:\n\u001b[0;32m    534\u001b[0m         cols_sorted \u001b[38;5;241m=\u001b[39m \u001b[38;5;28mlist\u001b[39m(safe_sort(\u001b[38;5;28mlist\u001b[39m(cols)))\n\u001b[1;32m--> 535\u001b[0m         \u001b[38;5;28;01mraise\u001b[39;00m \u001b[38;5;167;01mKeyError\u001b[39;00m(\u001b[38;5;124mf\u001b[39m\u001b[38;5;124m\"\u001b[39m\u001b[38;5;124mColumn(s) \u001b[39m\u001b[38;5;132;01m{\u001b[39;00mcols_sorted\u001b[38;5;132;01m}\u001b[39;00m\u001b[38;5;124m do not exist\u001b[39m\u001b[38;5;124m\"\u001b[39m)\n\u001b[0;32m    537\u001b[0m aggregator_types \u001b[38;5;241m=\u001b[39m (\u001b[38;5;28mlist\u001b[39m, \u001b[38;5;28mtuple\u001b[39m, \u001b[38;5;28mdict\u001b[39m)\n\u001b[0;32m    539\u001b[0m \u001b[38;5;66;03m# if we have a dict of any non-scalars\u001b[39;00m\n\u001b[0;32m    540\u001b[0m \u001b[38;5;66;03m# eg. {'A' : ['mean']}, normalize all to\u001b[39;00m\n\u001b[0;32m    541\u001b[0m \u001b[38;5;66;03m# be list-likes\u001b[39;00m\n\u001b[0;32m    542\u001b[0m \u001b[38;5;66;03m# Cannot use func.values() because arg may be a Series\u001b[39;00m\n",
      "\u001b[1;31mKeyError\u001b[0m: \"Column(s) ['TAVG_C', 'TMAX_C', 'TMIN_C'] do not exist\""
     ]
    }
   ],
   "source": [
    "%run sarima_weather_univariate.py"
   ]
  },
  {
   "cell_type": "code",
   "execution_count": null,
   "id": "5bdb97b8-7ead-489e-9cc8-c2f8ce3f865e",
   "metadata": {},
   "outputs": [],
   "source": []
  },
  {
   "cell_type": "code",
   "execution_count": 3,
   "id": "d2c20003-f6f4-420e-ac83-55f193b9a853",
   "metadata": {},
   "outputs": [
    {
     "name": "stdout",
     "output_type": "stream",
     "text": [
      "Index(['STATION', 'DATE', 'LATITUDE', 'LONGITUDE', 'ELEVATION', 'NAME',\n",
      "       'Precipitation', 'Snowfall', 'DAPR', 'MDPR', 'station_id', 'Snow_Depth',\n",
      "       'WESD', 'WESF', 'Max_Temperature', 'Min_Temperature', 'TOBS', 'WT01',\n",
      "       'WT03', 'WT04', 'WT05', 'WT06', 'WT08', 'WT11', 'WT14', 'WT16', 'WT18',\n",
      "       'DAEV', 'DASF', 'DAWM', 'EVAP', 'MDEV', 'MDSF', 'MDWM', 'MNPN', 'MXPN',\n",
      "       'WDMV', 'WT07', 'WT09', 'WT10', 'AWND', 'PGTM', 'WDFG', 'WSFG', 'ACMH',\n",
      "       'ACSH', 'ADPT', 'ASLP', 'ASTP', 'AWBT', 'FMTM', 'FRTH', 'GAHT', 'RHAV',\n",
      "       'RHMN', 'RHMX', 'TAVG', 'TSUN', 'WDF1', 'WDF2', 'WDF5', 'WDFM', 'WSF1',\n",
      "       'WSF2', 'WSF5', 'WSFM', 'WT02', 'WT13', 'WT15', 'WT17', 'WT19', 'WT21',\n",
      "       'WT22', 'WV20', 'FRGT', 'PSUN', 'WV03', 'WV01', 'Year', 'Month',\n",
      "       'Average_Temperature'],\n",
      "      dtype='object')\n"
     ]
    }
   ],
   "source": [
    "print(df.columns)  # This will show the available columns\n"
   ]
  },
  {
   "cell_type": "code",
   "execution_count": 4,
   "id": "94b0470d-88eb-4631-a972-7db0559f3b52",
   "metadata": {},
   "outputs": [
    {
     "name": "stdout",
     "output_type": "stream",
     "text": [
      "\n",
      "Running SARIMA for: TMAX_C\n"
     ]
    },
    {
     "ename": "KeyError",
     "evalue": "\"['TMAX_C'] not in index\"",
     "output_type": "error",
     "traceback": [
      "\u001b[1;31m---------------------------------------------------------------------------\u001b[0m",
      "\u001b[1;31mKeyError\u001b[0m                                  Traceback (most recent call last)",
      "File \u001b[1;32mD:\\env_monitoring_platform\\backend\\weather_data_files\\sarima_weather_univariate.py:32\u001b[0m\n\u001b[0;32m     29\u001b[0m \u001b[38;5;28;01mfor\u001b[39;00m column \u001b[38;5;129;01min\u001b[39;00m [\u001b[38;5;124m\"\u001b[39m\u001b[38;5;124mTMAX_C\u001b[39m\u001b[38;5;124m\"\u001b[39m, \u001b[38;5;124m\"\u001b[39m\u001b[38;5;124mTMIN_C\u001b[39m\u001b[38;5;124m\"\u001b[39m, \u001b[38;5;124m\"\u001b[39m\u001b[38;5;124mTAVG_C\u001b[39m\u001b[38;5;124m\"\u001b[39m]:\n\u001b[0;32m     30\u001b[0m     \u001b[38;5;28mprint\u001b[39m(\u001b[38;5;124mf\u001b[39m\u001b[38;5;124m\"\u001b[39m\u001b[38;5;130;01m\\n\u001b[39;00m\u001b[38;5;124mRunning SARIMA for: \u001b[39m\u001b[38;5;132;01m{\u001b[39;00mcolumn\u001b[38;5;132;01m}\u001b[39;00m\u001b[38;5;124m\"\u001b[39m)\n\u001b[1;32m---> 32\u001b[0m     data \u001b[38;5;241m=\u001b[39m \u001b[43mdaily_weather\u001b[49m\u001b[43m[\u001b[49m\u001b[43m[\u001b[49m\u001b[38;5;124;43m\"\u001b[39;49m\u001b[38;5;124;43mDATE\u001b[39;49m\u001b[38;5;124;43m\"\u001b[39;49m\u001b[43m,\u001b[49m\u001b[43m \u001b[49m\u001b[43mcolumn\u001b[49m\u001b[43m]\u001b[49m\u001b[43m]\u001b[49m\u001b[38;5;241m.\u001b[39mdropna()\n\u001b[0;32m     33\u001b[0m     data \u001b[38;5;241m=\u001b[39m data\u001b[38;5;241m.\u001b[39mrename(columns\u001b[38;5;241m=\u001b[39m{column: \u001b[38;5;124m\"\u001b[39m\u001b[38;5;124my\u001b[39m\u001b[38;5;124m\"\u001b[39m})\n\u001b[0;32m     34\u001b[0m     data \u001b[38;5;241m=\u001b[39m data\u001b[38;5;241m.\u001b[39mset_index(\u001b[38;5;124m\"\u001b[39m\u001b[38;5;124mDATE\u001b[39m\u001b[38;5;124m\"\u001b[39m)\n",
      "File \u001b[1;32mE:\\anaconda3\\envs\\env_monitoring\\lib\\site-packages\\pandas\\core\\frame.py:3767\u001b[0m, in \u001b[0;36mDataFrame.__getitem__\u001b[1;34m(self, key)\u001b[0m\n\u001b[0;32m   3765\u001b[0m     \u001b[38;5;28;01mif\u001b[39;00m is_iterator(key):\n\u001b[0;32m   3766\u001b[0m         key \u001b[38;5;241m=\u001b[39m \u001b[38;5;28mlist\u001b[39m(key)\n\u001b[1;32m-> 3767\u001b[0m     indexer \u001b[38;5;241m=\u001b[39m \u001b[38;5;28;43mself\u001b[39;49m\u001b[38;5;241;43m.\u001b[39;49m\u001b[43mcolumns\u001b[49m\u001b[38;5;241;43m.\u001b[39;49m\u001b[43m_get_indexer_strict\u001b[49m\u001b[43m(\u001b[49m\u001b[43mkey\u001b[49m\u001b[43m,\u001b[49m\u001b[43m \u001b[49m\u001b[38;5;124;43m\"\u001b[39;49m\u001b[38;5;124;43mcolumns\u001b[39;49m\u001b[38;5;124;43m\"\u001b[39;49m\u001b[43m)\u001b[49m[\u001b[38;5;241m1\u001b[39m]\n\u001b[0;32m   3769\u001b[0m \u001b[38;5;66;03m# take() does not accept boolean indexers\u001b[39;00m\n\u001b[0;32m   3770\u001b[0m \u001b[38;5;28;01mif\u001b[39;00m \u001b[38;5;28mgetattr\u001b[39m(indexer, \u001b[38;5;124m\"\u001b[39m\u001b[38;5;124mdtype\u001b[39m\u001b[38;5;124m\"\u001b[39m, \u001b[38;5;28;01mNone\u001b[39;00m) \u001b[38;5;241m==\u001b[39m \u001b[38;5;28mbool\u001b[39m:\n",
      "File \u001b[1;32mE:\\anaconda3\\envs\\env_monitoring\\lib\\site-packages\\pandas\\core\\indexes\\base.py:5877\u001b[0m, in \u001b[0;36mIndex._get_indexer_strict\u001b[1;34m(self, key, axis_name)\u001b[0m\n\u001b[0;32m   5874\u001b[0m \u001b[38;5;28;01melse\u001b[39;00m:\n\u001b[0;32m   5875\u001b[0m     keyarr, indexer, new_indexer \u001b[38;5;241m=\u001b[39m \u001b[38;5;28mself\u001b[39m\u001b[38;5;241m.\u001b[39m_reindex_non_unique(keyarr)\n\u001b[1;32m-> 5877\u001b[0m \u001b[38;5;28;43mself\u001b[39;49m\u001b[38;5;241;43m.\u001b[39;49m\u001b[43m_raise_if_missing\u001b[49m\u001b[43m(\u001b[49m\u001b[43mkeyarr\u001b[49m\u001b[43m,\u001b[49m\u001b[43m \u001b[49m\u001b[43mindexer\u001b[49m\u001b[43m,\u001b[49m\u001b[43m \u001b[49m\u001b[43maxis_name\u001b[49m\u001b[43m)\u001b[49m\n\u001b[0;32m   5879\u001b[0m keyarr \u001b[38;5;241m=\u001b[39m \u001b[38;5;28mself\u001b[39m\u001b[38;5;241m.\u001b[39mtake(indexer)\n\u001b[0;32m   5880\u001b[0m \u001b[38;5;28;01mif\u001b[39;00m \u001b[38;5;28misinstance\u001b[39m(key, Index):\n\u001b[0;32m   5881\u001b[0m     \u001b[38;5;66;03m# GH 42790 - Preserve name from an Index\u001b[39;00m\n",
      "File \u001b[1;32mE:\\anaconda3\\envs\\env_monitoring\\lib\\site-packages\\pandas\\core\\indexes\\base.py:5941\u001b[0m, in \u001b[0;36mIndex._raise_if_missing\u001b[1;34m(self, key, indexer, axis_name)\u001b[0m\n\u001b[0;32m   5938\u001b[0m     \u001b[38;5;28;01mraise\u001b[39;00m \u001b[38;5;167;01mKeyError\u001b[39;00m(\u001b[38;5;124mf\u001b[39m\u001b[38;5;124m\"\u001b[39m\u001b[38;5;124mNone of [\u001b[39m\u001b[38;5;132;01m{\u001b[39;00mkey\u001b[38;5;132;01m}\u001b[39;00m\u001b[38;5;124m] are in the [\u001b[39m\u001b[38;5;132;01m{\u001b[39;00maxis_name\u001b[38;5;132;01m}\u001b[39;00m\u001b[38;5;124m]\u001b[39m\u001b[38;5;124m\"\u001b[39m)\n\u001b[0;32m   5940\u001b[0m not_found \u001b[38;5;241m=\u001b[39m \u001b[38;5;28mlist\u001b[39m(ensure_index(key)[missing_mask\u001b[38;5;241m.\u001b[39mnonzero()[\u001b[38;5;241m0\u001b[39m]]\u001b[38;5;241m.\u001b[39munique())\n\u001b[1;32m-> 5941\u001b[0m \u001b[38;5;28;01mraise\u001b[39;00m \u001b[38;5;167;01mKeyError\u001b[39;00m(\u001b[38;5;124mf\u001b[39m\u001b[38;5;124m\"\u001b[39m\u001b[38;5;132;01m{\u001b[39;00mnot_found\u001b[38;5;132;01m}\u001b[39;00m\u001b[38;5;124m not in index\u001b[39m\u001b[38;5;124m\"\u001b[39m)\n",
      "\u001b[1;31mKeyError\u001b[0m: \"['TMAX_C'] not in index\""
     ]
    }
   ],
   "source": [
    "%run sarima_weather_univariate.py"
   ]
  },
  {
   "cell_type": "code",
   "execution_count": 5,
   "id": "0b95ade4-bd7d-4072-8a84-4cd32d4644a0",
   "metadata": {},
   "outputs": [
    {
     "name": "stdout",
     "output_type": "stream",
     "text": [
      "\n",
      "Running SARIMA for: Max_Temperature\n",
      "                                      SARIMAX Results                                       \n",
      "============================================================================================\n",
      "Dep. Variable:                                    y   No. Observations:                 9132\n",
      "Model:             SARIMAX(1, 0, 0)x(1, 0, [1], 12)   Log Likelihood              -22803.879\n",
      "Date:                              Sat, 19 Apr 2025   AIC                          45615.757\n",
      "Time:                                      15:44:45   BIC                          45644.230\n",
      "Sample:                                  01-01-2000   HQIC                         45625.440\n",
      "                                       - 12-31-2024                                         \n",
      "Covariance Type:                                opg                                         \n",
      "==============================================================================\n",
      "                 coef    std err          z      P>|z|      [0.025      0.975]\n",
      "------------------------------------------------------------------------------\n",
      "ar.L1          0.9889      0.002    546.000      0.000       0.985       0.992\n",
      "ar.S.L12       0.0612      0.146      0.420      0.674      -0.224       0.347\n",
      "ma.S.L12      -0.0580      0.146     -0.397      0.691      -0.344       0.228\n",
      "sigma2         8.7014      0.110     79.365      0.000       8.487       8.916\n",
      "===================================================================================\n",
      "Ljung-Box (L1) (Q):                 261.66   Jarque-Bera (JB):               417.29\n",
      "Prob(Q):                              0.00   Prob(JB):                         0.00\n",
      "Heteroskedasticity (H):               0.97   Skew:                            -0.24\n",
      "Prob(H) (two-sided):                  0.40   Kurtosis:                         3.93\n",
      "===================================================================================\n",
      "\n",
      "Warnings:\n",
      "[1] Covariance matrix calculated using the outer product of gradients (complex-step).\n",
      "\n",
      "Running SARIMA for: Min_Temperature\n",
      "                                      SARIMAX Results                                       \n",
      "============================================================================================\n",
      "Dep. Variable:                                    y   No. Observations:                 9132\n",
      "Model:             SARIMAX(1, 0, 0)x(1, 0, [1], 12)   Log Likelihood              -21504.096\n",
      "Date:                              Sat, 19 Apr 2025   AIC                          43016.192\n",
      "Time:                                      15:44:48   BIC                          43044.665\n",
      "Sample:                                  01-01-2000   HQIC                         43025.874\n",
      "                                       - 12-31-2024                                         \n",
      "Covariance Type:                                opg                                         \n",
      "==============================================================================\n",
      "                 coef    std err          z      P>|z|      [0.025      0.975]\n",
      "------------------------------------------------------------------------------\n",
      "ar.L1          0.9777      0.003    367.901      0.000       0.972       0.983\n",
      "ar.S.L12       0.0779      0.108      0.719      0.472      -0.134       0.290\n",
      "ma.S.L12      -0.0841      0.109     -0.774      0.439      -0.297       0.129\n",
      "sigma2         6.5433      0.091     71.649      0.000       6.364       6.722\n",
      "===================================================================================\n",
      "Ljung-Box (L1) (Q):                 173.97   Jarque-Bera (JB):                66.17\n",
      "Prob(Q):                              0.00   Prob(JB):                         0.00\n",
      "Heteroskedasticity (H):               0.96   Skew:                            -0.10\n",
      "Prob(H) (two-sided):                  0.25   Kurtosis:                         3.37\n",
      "===================================================================================\n",
      "\n",
      "Warnings:\n",
      "[1] Covariance matrix calculated using the outer product of gradients (complex-step).\n",
      "\n",
      "Running SARIMA for: Average_Temperature\n",
      "                                      SARIMAX Results                                       \n",
      "============================================================================================\n",
      "Dep. Variable:                                    y   No. Observations:                 9132\n",
      "Model:             SARIMAX(1, 0, 0)x(1, 0, [1], 12)   Log Likelihood              -21322.356\n",
      "Date:                              Sat, 19 Apr 2025   AIC                          42652.712\n",
      "Time:                                      15:44:51   BIC                          42681.184\n",
      "Sample:                                  01-01-2000   HQIC                         42662.394\n",
      "                                       - 12-31-2024                                         \n",
      "Covariance Type:                                opg                                         \n",
      "==============================================================================\n",
      "                 coef    std err          z      P>|z|      [0.025      0.975]\n",
      "------------------------------------------------------------------------------\n",
      "ar.L1          0.9874      0.002    487.814      0.000       0.983       0.991\n",
      "ar.S.L12       0.0490      0.121      0.405      0.685      -0.188       0.286\n",
      "ma.S.L12      -0.0567      0.121     -0.467      0.640      -0.294       0.181\n",
      "sigma2         6.2879      0.083     75.438      0.000       6.125       6.451\n",
      "===================================================================================\n",
      "Ljung-Box (L1) (Q):                 376.61   Jarque-Bera (JB):               206.30\n",
      "Prob(Q):                              0.00   Prob(JB):                         0.00\n",
      "Heteroskedasticity (H):               1.01   Skew:                            -0.19\n",
      "Prob(H) (two-sided):                  0.70   Kurtosis:                         3.63\n",
      "===================================================================================\n",
      "\n",
      "Warnings:\n",
      "[1] Covariance matrix calculated using the outer product of gradients (complex-step).\n",
      "SARIMA modeling and plotting complete!\n"
     ]
    }
   ],
   "source": [
    "%run sarima_weather_univariate.py"
   ]
  },
  {
   "cell_type": "code",
   "execution_count": 6,
   "id": "3ed3844e-d85a-42c1-9316-753255bba359",
   "metadata": {},
   "outputs": [
    {
     "name": "stdout",
     "output_type": "stream",
     "text": [
      "\n",
      "Training XGBoost model for: Max_Temperature\n",
      "MAE: 1.37, MSE: 3.35, R²: -0.4379\n",
      "\n",
      "Training XGBoost model for: Min_Temperature\n",
      "MAE: 2.43, MSE: 9.24, R²: 0.2020\n",
      "\n",
      "Training XGBoost model for: Average_Temperature\n",
      "MAE: 1.43, MSE: 3.13, R²: 0.3637\n",
      " XGBoost univariate forecasting complete.\n"
     ]
    }
   ],
   "source": [
    "%run xgboost_univariate_weather.py"
   ]
  },
  {
   "cell_type": "code",
   "execution_count": 9,
   "id": "4728c2fc-7914-4493-8c19-7f8e3de82149",
   "metadata": {},
   "outputs": [
    {
     "ename": "KeyError",
     "evalue": "\"['TMIN_C', 'TAVG_C', 'PRCP_mm', 'SNOW_mm', 'AWND_mps', 'TMAX_C'] not in index\"",
     "output_type": "error",
     "traceback": [
      "\u001b[1;31m---------------------------------------------------------------------------\u001b[0m",
      "\u001b[1;31mKeyError\u001b[0m                                  Traceback (most recent call last)",
      "File \u001b[1;32mD:\\env_monitoring_platform\\backend\\weather_data_files\\xgboost_multivariate_weather.py:21\u001b[0m\n\u001b[0;32m     18\u001b[0m features \u001b[38;5;241m=\u001b[39m [\u001b[38;5;124m\"\u001b[39m\u001b[38;5;124mTMIN_C\u001b[39m\u001b[38;5;124m\"\u001b[39m, \u001b[38;5;124m\"\u001b[39m\u001b[38;5;124mTAVG_C\u001b[39m\u001b[38;5;124m\"\u001b[39m, \u001b[38;5;124m\"\u001b[39m\u001b[38;5;124mPRCP_mm\u001b[39m\u001b[38;5;124m\"\u001b[39m, \u001b[38;5;124m\"\u001b[39m\u001b[38;5;124mSNOW_mm\u001b[39m\u001b[38;5;124m\"\u001b[39m, \u001b[38;5;124m\"\u001b[39m\u001b[38;5;124mAWND_mps\u001b[39m\u001b[38;5;124m\"\u001b[39m]\n\u001b[0;32m     19\u001b[0m target \u001b[38;5;241m=\u001b[39m \u001b[38;5;124m\"\u001b[39m\u001b[38;5;124mTMAX_C\u001b[39m\u001b[38;5;124m\"\u001b[39m\n\u001b[1;32m---> 21\u001b[0m df \u001b[38;5;241m=\u001b[39m \u001b[43mdf\u001b[49m\u001b[43m[\u001b[49m\u001b[43m[\u001b[49m\u001b[38;5;124;43m\"\u001b[39;49m\u001b[38;5;124;43mDATE\u001b[39;49m\u001b[38;5;124;43m\"\u001b[39;49m\u001b[43m]\u001b[49m\u001b[43m \u001b[49m\u001b[38;5;241;43m+\u001b[39;49m\u001b[43m \u001b[49m\u001b[43mfeatures\u001b[49m\u001b[43m \u001b[49m\u001b[38;5;241;43m+\u001b[39;49m\u001b[43m \u001b[49m\u001b[43m[\u001b[49m\u001b[43mtarget\u001b[49m\u001b[43m]\u001b[49m\u001b[43m]\u001b[49m\u001b[38;5;241m.\u001b[39mdropna()\n\u001b[0;32m     23\u001b[0m \u001b[38;5;66;03m# Create lag features\u001b[39;00m\n\u001b[0;32m     24\u001b[0m \u001b[38;5;28;01mfor\u001b[39;00m col \u001b[38;5;129;01min\u001b[39;00m features \u001b[38;5;241m+\u001b[39m [target]:\n",
      "File \u001b[1;32mE:\\anaconda3\\envs\\env_monitoring\\lib\\site-packages\\pandas\\core\\frame.py:3767\u001b[0m, in \u001b[0;36mDataFrame.__getitem__\u001b[1;34m(self, key)\u001b[0m\n\u001b[0;32m   3765\u001b[0m     \u001b[38;5;28;01mif\u001b[39;00m is_iterator(key):\n\u001b[0;32m   3766\u001b[0m         key \u001b[38;5;241m=\u001b[39m \u001b[38;5;28mlist\u001b[39m(key)\n\u001b[1;32m-> 3767\u001b[0m     indexer \u001b[38;5;241m=\u001b[39m \u001b[38;5;28;43mself\u001b[39;49m\u001b[38;5;241;43m.\u001b[39;49m\u001b[43mcolumns\u001b[49m\u001b[38;5;241;43m.\u001b[39;49m\u001b[43m_get_indexer_strict\u001b[49m\u001b[43m(\u001b[49m\u001b[43mkey\u001b[49m\u001b[43m,\u001b[49m\u001b[43m \u001b[49m\u001b[38;5;124;43m\"\u001b[39;49m\u001b[38;5;124;43mcolumns\u001b[39;49m\u001b[38;5;124;43m\"\u001b[39;49m\u001b[43m)\u001b[49m[\u001b[38;5;241m1\u001b[39m]\n\u001b[0;32m   3769\u001b[0m \u001b[38;5;66;03m# take() does not accept boolean indexers\u001b[39;00m\n\u001b[0;32m   3770\u001b[0m \u001b[38;5;28;01mif\u001b[39;00m \u001b[38;5;28mgetattr\u001b[39m(indexer, \u001b[38;5;124m\"\u001b[39m\u001b[38;5;124mdtype\u001b[39m\u001b[38;5;124m\"\u001b[39m, \u001b[38;5;28;01mNone\u001b[39;00m) \u001b[38;5;241m==\u001b[39m \u001b[38;5;28mbool\u001b[39m:\n",
      "File \u001b[1;32mE:\\anaconda3\\envs\\env_monitoring\\lib\\site-packages\\pandas\\core\\indexes\\base.py:5877\u001b[0m, in \u001b[0;36mIndex._get_indexer_strict\u001b[1;34m(self, key, axis_name)\u001b[0m\n\u001b[0;32m   5874\u001b[0m \u001b[38;5;28;01melse\u001b[39;00m:\n\u001b[0;32m   5875\u001b[0m     keyarr, indexer, new_indexer \u001b[38;5;241m=\u001b[39m \u001b[38;5;28mself\u001b[39m\u001b[38;5;241m.\u001b[39m_reindex_non_unique(keyarr)\n\u001b[1;32m-> 5877\u001b[0m \u001b[38;5;28;43mself\u001b[39;49m\u001b[38;5;241;43m.\u001b[39;49m\u001b[43m_raise_if_missing\u001b[49m\u001b[43m(\u001b[49m\u001b[43mkeyarr\u001b[49m\u001b[43m,\u001b[49m\u001b[43m \u001b[49m\u001b[43mindexer\u001b[49m\u001b[43m,\u001b[49m\u001b[43m \u001b[49m\u001b[43maxis_name\u001b[49m\u001b[43m)\u001b[49m\n\u001b[0;32m   5879\u001b[0m keyarr \u001b[38;5;241m=\u001b[39m \u001b[38;5;28mself\u001b[39m\u001b[38;5;241m.\u001b[39mtake(indexer)\n\u001b[0;32m   5880\u001b[0m \u001b[38;5;28;01mif\u001b[39;00m \u001b[38;5;28misinstance\u001b[39m(key, Index):\n\u001b[0;32m   5881\u001b[0m     \u001b[38;5;66;03m# GH 42790 - Preserve name from an Index\u001b[39;00m\n",
      "File \u001b[1;32mE:\\anaconda3\\envs\\env_monitoring\\lib\\site-packages\\pandas\\core\\indexes\\base.py:5941\u001b[0m, in \u001b[0;36mIndex._raise_if_missing\u001b[1;34m(self, key, indexer, axis_name)\u001b[0m\n\u001b[0;32m   5938\u001b[0m     \u001b[38;5;28;01mraise\u001b[39;00m \u001b[38;5;167;01mKeyError\u001b[39;00m(\u001b[38;5;124mf\u001b[39m\u001b[38;5;124m\"\u001b[39m\u001b[38;5;124mNone of [\u001b[39m\u001b[38;5;132;01m{\u001b[39;00mkey\u001b[38;5;132;01m}\u001b[39;00m\u001b[38;5;124m] are in the [\u001b[39m\u001b[38;5;132;01m{\u001b[39;00maxis_name\u001b[38;5;132;01m}\u001b[39;00m\u001b[38;5;124m]\u001b[39m\u001b[38;5;124m\"\u001b[39m)\n\u001b[0;32m   5940\u001b[0m not_found \u001b[38;5;241m=\u001b[39m \u001b[38;5;28mlist\u001b[39m(ensure_index(key)[missing_mask\u001b[38;5;241m.\u001b[39mnonzero()[\u001b[38;5;241m0\u001b[39m]]\u001b[38;5;241m.\u001b[39munique())\n\u001b[1;32m-> 5941\u001b[0m \u001b[38;5;28;01mraise\u001b[39;00m \u001b[38;5;167;01mKeyError\u001b[39;00m(\u001b[38;5;124mf\u001b[39m\u001b[38;5;124m\"\u001b[39m\u001b[38;5;132;01m{\u001b[39;00mnot_found\u001b[38;5;132;01m}\u001b[39;00m\u001b[38;5;124m not in index\u001b[39m\u001b[38;5;124m\"\u001b[39m)\n",
      "\u001b[1;31mKeyError\u001b[0m: \"['TMIN_C', 'TAVG_C', 'PRCP_mm', 'SNOW_mm', 'AWND_mps', 'TMAX_C'] not in index\""
     ]
    }
   ],
   "source": [
    "%run xgboost_multivariate_weather.py"
   ]
  },
  {
   "cell_type": "code",
   "execution_count": 10,
   "id": "0807fe24-7378-4e16-8036-596a411a9534",
   "metadata": {},
   "outputs": [
    {
     "name": "stdout",
     "output_type": "stream",
     "text": [
      "Available columns: ['STATION', 'DATE', 'LATITUDE', 'LONGITUDE', 'ELEVATION', 'NAME', 'Precipitation', 'Snowfall', 'DAPR', 'MDPR', 'station_id', 'Snow_Depth', 'WESD', 'WESF', 'Max_Temperature', 'Min_Temperature', 'TOBS', 'WT01', 'WT03', 'WT04', 'WT05', 'WT06', 'WT08', 'WT11', 'WT14', 'WT16', 'WT18', 'DAEV', 'DASF', 'DAWM', 'EVAP', 'MDEV', 'MDSF', 'MDWM', 'MNPN', 'MXPN', 'WDMV', 'WT07', 'WT09', 'WT10', 'AWND', 'PGTM', 'WDFG', 'WSFG', 'ACMH', 'ACSH', 'ADPT', 'ASLP', 'ASTP', 'AWBT', 'FMTM', 'FRTH', 'GAHT', 'RHAV', 'RHMN', 'RHMX', 'TAVG', 'TSUN', 'WDF1', 'WDF2', 'WDF5', 'WDFM', 'WSF1', 'WSF2', 'WSF5', 'WSFM', 'WT02', 'WT13', 'WT15', 'WT17', 'WT19', 'WT21', 'WT22', 'WV20', 'FRGT', 'PSUN', 'WV03', 'WV01', 'Year', 'Month', 'Average_Temperature']\n"
     ]
    }
   ],
   "source": [
    "print(\"Available columns:\", df.columns.tolist())"
   ]
  },
  {
   "cell_type": "code",
   "execution_count": 12,
   "id": "13840618-a9f8-4e58-bc4d-10a22f98caaa",
   "metadata": {},
   "outputs": [
    {
     "name": "stdout",
     "output_type": "stream",
     "text": [
      "Root Mean Squared Error (RMSE): 1.422328748807999\n"
     ]
    }
   ],
   "source": [
    "%run xgboost_multivariate_weather.py"
   ]
  },
  {
   "cell_type": "code",
   "execution_count": null,
   "id": "482de426-4763-4392-be17-2df6da6d3dc3",
   "metadata": {},
   "outputs": [],
   "source": []
  }
 ],
 "metadata": {
  "kernelspec": {
   "display_name": "Python 3 (ipykernel)",
   "language": "python",
   "name": "python3"
  },
  "language_info": {
   "codemirror_mode": {
    "name": "ipython",
    "version": 3
   },
   "file_extension": ".py",
   "mimetype": "text/x-python",
   "name": "python",
   "nbconvert_exporter": "python",
   "pygments_lexer": "ipython3",
   "version": "3.8.20"
  }
 },
 "nbformat": 4,
 "nbformat_minor": 5
}
