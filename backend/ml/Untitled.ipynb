{
 "cells": [
  {
   "cell_type": "code",
   "execution_count": null,
   "id": "73f683e2",
   "metadata": {},
   "outputs": [],
   "source": [
    "%matplotlib inline"
   ]
  },
  {
   "cell_type": "code",
   "execution_count": null,
   "id": "ab9ad693",
   "metadata": {},
   "outputs": [],
   "source": [
    "import os\n",
    "import pandas as pd\n",
    "import matplotlib.pyplot as plt\n",
    "import seaborn as sns\n",
    "\n",
    "# For better visuals\n",
    "sns.set(style=\"whitegrid\")\n",
    "plt.rcParams[\"figure.figsize\"] = (12, 6)\n",
    "\n",
    "def load_epa_file(filepath):\n",
    "    \"\"\"\n",
    "    Load EPA CSV or Excel file, ensuring string types and parsing dates properly.\n",
    "    \"\"\"\n",
    "    try:\n",
    "        if filepath.endswith('.csv'):\n",
    "            df = pd.read_csv(filepath, dtype=str, low_memory=False)\n",
    "        else:\n",
    "            df = pd.read_excel(filepath, dtype=str)\n",
    "        print(f\"Loaded file: {filepath}\")\n",
    "        return df\n",
    "    except Exception as e:\n",
    "        print(f\"Error loading {filepath}: {e}\")\n",
    "        return pd.DataFrame()\n",
    "\n",
    "def clean_and_prepare(df):\n",
    "    \"\"\"\n",
    "    Basic cleaning and conversion: convert date and pollutant concentration columns.\n",
    "    \"\"\"\n",
    "    df = df.copy()\n",
    "\n",
    "    # Print column names for debugging\n",
    "    print(\"\\n--- Column Names ---\")\n",
    "    print(df.columns)\n",
    "\n",
    "    # Rename known useful columns for consistency\n",
    "    if 'date_local' in df.columns:\n",
    "        df['Date'] = pd.to_datetime(df['date_local'], errors='coerce')\n",
    "    if 'arithmetic_mean' in df.columns:\n",
    "        df['Concentration'] = pd.to_numeric(df['arithmetic_mean'], errors='coerce')\n",
    "\n",
    "    # Drop rows with missing critical values\n",
    "    df = df.dropna(subset=['Date', 'Concentration'])\n",
    "\n",
    "    return df[['Date', 'Concentration']]\n",
    "\n",
    "def explore_data(df, title=\"Pollutant Trend\"):\n",
    "    \"\"\"\n",
    "    Simple EDA: descriptive stats and line plot.\n",
    "    \"\"\"\n",
    "    print(\"\\n--- Descriptive Statistics ---\")\n",
    "    print(df.describe())\n",
    "\n",
    "    print(\"\\n--- Data Info ---\")\n",
    "    print(df.info())\n",
    "\n",
    "    # Resample data by month or any time period to reduce size\n",
    "    df_resampled = df.set_index('Date').resample('M').mean().reset_index()\n",
    "\n",
    "    print(\"\\n--- Plotting Resampled Time Series ---\")\n",
    "    sns.lineplot(data=df_resampled, x='Date', y='Concentration', label='Pollutant Level')\n",
    "    plt.title(title)\n",
    "    plt.xlabel(\"Date\")\n",
    "    plt.ylabel(\"Concentration (µg/m³ or ppm)\")\n",
    "    plt.xticks(rotation=45)\n",
    "    plt.tight_layout()\n",
    "    plt.show()\n",
    "\n",
    "def run_eda_on_all_files(data_dir):\n",
    "    \"\"\"\n",
    "    Loop through all files in the epa_data_by_state/ directory and run EDA.\n",
    "    \"\"\"\n",
    "    for file in os.listdir(data_dir):\n",
    "        filepath = os.path.join(data_dir, file)\n",
    "        df_raw = load_epa_file(filepath)\n",
    "        if not df_raw.empty:\n",
    "            df_cleaned = clean_and_prepare(df_raw)\n",
    "            explore_data(df_cleaned, title=f\"{file} Trend Over Time\")\n",
    "\n",
    "# Example usage\n",
    "if __name__ == \"__main__\":\n",
    "    data_folder = r'D:\\env_monitoring_platform\\backend\\epa_data_by_state'  # Hardcoded path\n",
    "    run_eda_on_all_files(data_folder)\n"
   ]
  },
  {
   "cell_type": "code",
   "execution_count": null,
   "id": "6a0f81b8",
   "metadata": {},
   "outputs": [],
   "source": [
    "!python D:/env_monitoring_platform/backend/ml/data_exploration.py"
   ]
  },
  {
   "cell_type": "code",
   "execution_count": null,
   "id": "ad181918",
   "metadata": {},
   "outputs": [],
   "source": [
    "!python D:/env_monitoring_platform/backend/ml/data_exploration.py"
   ]
  },
  {
   "cell_type": "code",
   "execution_count": null,
   "id": "dba56056",
   "metadata": {},
   "outputs": [],
   "source": [
    "!python D:/env_monitoring_platform/backend/ml/data_exploration.py"
   ]
  },
  {
   "cell_type": "code",
   "execution_count": null,
   "id": "0f98c71a",
   "metadata": {},
   "outputs": [],
   "source": [
    "!python D:/env_monitoring_platform/backend/ml/data_exploration.py"
   ]
  },
  {
   "cell_type": "code",
   "execution_count": null,
   "id": "e7da5bb9",
   "metadata": {},
   "outputs": [],
   "source": [
    "!python D:/env_monitoring_platform/backend/ml/data_exploration.py"
   ]
  },
  {
   "cell_type": "code",
   "execution_count": null,
   "id": "222fac4e",
   "metadata": {},
   "outputs": [],
   "source": [
    "!python D:/env_monitoring_platform/backend/ml/prophet_pm25_forecast.py"
   ]
  },
  {
   "cell_type": "code",
   "execution_count": null,
   "id": "885fbe97",
   "metadata": {},
   "outputs": [],
   "source": [
    "!python D:/env_monitoring_platform/backend/ml/run_all_univariate.py"
   ]
  },
  {
   "cell_type": "code",
   "execution_count": null,
   "id": "11303ed2-85f3-40e9-871c-7830e061c19f",
   "metadata": {},
   "outputs": [],
   "source": [
    "!python D:/env_monitoring_platform/backend/ml/xgboost_multivariate.py"
   ]
  },
  {
   "cell_type": "code",
   "execution_count": null,
   "id": "ca7edb79-e9f5-4eb1-bed6-5c925afbd5d3",
   "metadata": {},
   "outputs": [],
   "source": [
    "!python D:/env_monitoring_platform/backend/utils/consolidate_metrics.py"
   ]
  },
  {
   "cell_type": "code",
   "execution_count": null,
   "id": "3da9474f-3d9e-47f7-a14b-8806172762c1",
   "metadata": {},
   "outputs": [],
   "source": [
    "!python D:/env_monitoring_platform/backend/weather_data_files/prophet_weather_univariate_all.py"
   ]
  },
  {
   "cell_type": "code",
   "execution_count": null,
   "id": "fc98eef8-8f24-4aea-8313-7f0272f3311c",
   "metadata": {},
   "outputs": [],
   "source": [
    "!python D:/env_monitoring_platform/backend/weather_data_files/prophet_weather_univariate_all.py"
   ]
  },
  {
   "cell_type": "code",
   "execution_count": null,
   "id": "6940b1ee-cfdb-45d7-978e-cc476f919e3f",
   "metadata": {},
   "outputs": [],
   "source": [
    "!python D:/env_monitoring_platform/backend/weather_data_files/prophet_weather_univariate_all.py"
   ]
  },
  {
   "cell_type": "code",
   "execution_count": null,
   "id": "042cff80-6790-417c-9d43-b3a2725cfe9b",
   "metadata": {},
   "outputs": [],
   "source": [
    "!python D:/env_monitoring_platform/backend/weather_data_files/sarima_weather_univariate.py"
   ]
  },
  {
   "cell_type": "code",
   "execution_count": null,
   "id": "d822adac-958c-4d43-a337-1652a1e837bc",
   "metadata": {},
   "outputs": [],
   "source": [
    "!python backend/utils/generate_all_metrics.py"
   ]
  },
  {
   "cell_type": "code",
   "execution_count": null,
   "id": "ce6f3c59-f78d-4c14-960c-55aaa8d7d25d",
   "metadata": {},
   "outputs": [],
   "source": [
    "!python D:/env_monitoring_platform/backend/utils/generate_all_metrics.py"
   ]
  },
  {
   "cell_type": "code",
   "execution_count": null,
   "id": "af363b12-b209-4be8-b189-5adbd1156149",
   "metadata": {},
   "outputs": [],
   "source": [
    "!python D:/env_monitoring_platform/backend/utils/generate_all_metrics.py"
   ]
  },
  {
   "cell_type": "code",
   "execution_count": null,
   "id": "ece96bde-7610-402a-88e2-b10c332adfc4",
   "metadata": {},
   "outputs": [],
   "source": [
    "!python D:/env_monitoring_platform/backend/utils/generate_all_metrics.py"
   ]
  },
  {
   "cell_type": "code",
   "execution_count": null,
   "id": "5fc00e79-d2fd-4248-b17e-822cb76c4518",
   "metadata": {},
   "outputs": [],
   "source": [
    "!python D:/env_monitoring_platform/backend/utils/generate_all_metrics.py"
   ]
  },
  {
   "cell_type": "code",
   "execution_count": null,
   "id": "f8cd1672-c3af-4bda-947d-238458b512e1",
   "metadata": {},
   "outputs": [],
   "source": [
    "!python D:/env_monitoring_platform/backend/utils/generate_all_metrics.py"
   ]
  },
  {
   "cell_type": "code",
   "execution_count": null,
   "id": "84f1aec7-cf26-433e-a340-54b3f01b0aa6",
   "metadata": {},
   "outputs": [],
   "source": [
    "!python D:\\env_monitoring_platform\\backend\\weather_data_files\\prophet_weather_univariate_all.py"
   ]
  },
  {
   "cell_type": "code",
   "execution_count": null,
   "id": "af2a1a6a-ac9b-4465-9924-60066c9745e0",
   "metadata": {},
   "outputs": [],
   "source": [
    "!python D:\\env_monitoring_platform\\backend\\weather_data_files\\create_weather_metrics_summary.py"
   ]
  },
  {
   "cell_type": "code",
   "execution_count": null,
   "id": "48d1845f-74a1-40a2-b2a2-ef89210a3e5d",
   "metadata": {},
   "outputs": [],
   "source": [
    "!python D:\\env_monitoring_platform\\backend\\weather_data_files\\sarima_weather_univariate.py"
   ]
  },
  {
   "cell_type": "code",
   "execution_count": null,
   "id": "dc7bc17b-e28a-4614-94e3-f2cdecae90fd",
   "metadata": {},
   "outputs": [],
   "source": [
    "!python D:\\env_monitoring_platform\\backend\\weather_data_files\\create_weather_metrics_summary.py"
   ]
  },
  {
   "cell_type": "code",
   "execution_count": null,
   "id": "6311765e-c5b6-4c7a-b256-45b0119433a6",
   "metadata": {},
   "outputs": [],
   "source": [
    "print(\"Prophet columns:\", prophet_metrics.columns)\n",
    "print(\"SARIMA columns:\", sarima_metrics.columns)\n"
   ]
  },
  {
   "cell_type": "code",
   "execution_count": null,
   "id": "9fdfdd00-53b2-42ef-8674-cf1ac7d83847",
   "metadata": {},
   "outputs": [],
   "source": [
    "!python D:\\env_monitoring_platform\\backend\\weather_data_files\\xgboost_univariate_weather.py"
   ]
  },
  {
   "cell_type": "code",
   "execution_count": null,
   "id": "2c820f9b-74c9-46f6-a19f-264e401e2cad",
   "metadata": {},
   "outputs": [],
   "source": [
    "!python D:\\env_monitoring_platform\\backend\\weather_data_files\\create_weather_metrics_summary.py"
   ]
  },
  {
   "cell_type": "code",
   "execution_count": null,
   "id": "d83b3f80-d417-41d8-9aea-a6ce921b7d5d",
   "metadata": {},
   "outputs": [],
   "source": [
    "!python D:\\env_monitoring_platform\\backend\\utils\\generate_all_metrics.py"
   ]
  },
  {
   "cell_type": "code",
   "execution_count": null,
   "id": "3d4e602a-8903-4fb3-abc2-69c035757aef",
   "metadata": {},
   "outputs": [],
   "source": [
    "!python D:\\env_monitoring_platform\\backend\\utils\\metrics_summary_generator.py"
   ]
  },
  {
   "cell_type": "code",
   "execution_count": null,
   "id": "8b51fc5c-d181-465f-893c-498eead1a0a9",
   "metadata": {},
   "outputs": [],
   "source": [
    "!python D:\\env_monitoring_platform\\backend\\utils\\consolidate_metrics.py"
   ]
  },
  {
   "cell_type": "code",
   "execution_count": null,
   "id": "2f4dd8f2-31a3-4987-aeaa-6558eb52129c",
   "metadata": {},
   "outputs": [],
   "source": [
    "!python D:\\env_monitoring_platform\\backend\\utils\\generate_air_quality_bar_charts.py"
   ]
  },
  {
   "cell_type": "code",
   "execution_count": null,
   "id": "36724afa-5f01-4058-8b80-efe18a734830",
   "metadata": {},
   "outputs": [],
   "source": [
    "!python D:\\env_monitoring_platform\\backend\\utils\\generate_air_quality_bar_charts.py"
   ]
  },
  {
   "cell_type": "code",
   "execution_count": null,
   "id": "b42ade7a-f7ab-48d1-aebc-6b334a83722a",
   "metadata": {},
   "outputs": [],
   "source": [
    "!python D:\\env_monitoring_platform\\backend\\utils\\generate_air_quality_bar_charts_multivariate.py"
   ]
  },
  {
   "cell_type": "code",
   "execution_count": null,
   "id": "f7d4f464-c180-4406-aec4-d281292725f2",
   "metadata": {},
   "outputs": [],
   "source": [
    "!python D:\\env_monitoring_platform\\backend\\utils\\merge_air_quality_metrics.py"
   ]
  },
  {
   "cell_type": "code",
   "execution_count": null,
   "id": "8e5756db-8a8b-4e40-9703-1da477f277ec",
   "metadata": {},
   "outputs": [],
   "source": [
    "!python D:\\env_monitoring_platform\\backend\\utils\\generate_air_quality_bar_charts_combined.py"
   ]
  },
  {
   "cell_type": "code",
   "execution_count": null,
   "id": "aa23f5d3-78d3-41f0-b3d1-42397180cee1",
   "metadata": {},
   "outputs": [],
   "source": [
    "!python D:\\env_monitoring_platform\\backend\\weather_data_files\\prophet_weather_univariate_all.py"
   ]
  },
  {
   "cell_type": "code",
   "execution_count": null,
   "id": "e4ed5453-009a-48fe-9717-a1a9898e1269",
   "metadata": {},
   "outputs": [],
   "source": [
    "!python D:\\env_monitoring_platform\\backend\\weather_data_files\\sarima_weather_univariate.py"
   ]
  },
  {
   "cell_type": "code",
   "execution_count": null,
   "id": "0a46950a-af24-4fbd-a67d-891d0671d88e",
   "metadata": {},
   "outputs": [],
   "source": [
    "!python D:\\env_monitoring_platform\\backend\\weather_data_files\\xgboost_univariate_weather.py"
   ]
  },
  {
   "cell_type": "code",
   "execution_count": null,
   "id": "b8fec522-d06c-4eba-a10f-af8ebcc11398",
   "metadata": {},
   "outputs": [],
   "source": [
    "!python D:\\env_monitoring_platform\\backend\\weather_data_files\\xgboost_multivariate_weather.py"
   ]
  },
  {
   "cell_type": "code",
   "execution_count": null,
   "id": "164d7547-837b-498a-9cd5-235ed080579d",
   "metadata": {},
   "outputs": [],
   "source": [
    "!python D:\\env_monitoring_platform\\backend\\weather_data_files\\create_weather_metrics_summary.py"
   ]
  },
  {
   "cell_type": "code",
   "execution_count": null,
   "id": "cc75ba34-0cf3-454d-b5a6-eccb722cf4a0",
   "metadata": {},
   "outputs": [],
   "source": [
    "!python D:\\env_monitoring_platform\\backend\\weather_data_files\\plot_weather_model_metrics.py"
   ]
  },
  {
   "cell_type": "code",
   "execution_count": null,
   "id": "e678533f-ec04-4e55-b08b-27b310fdd5a7",
   "metadata": {},
   "outputs": [],
   "source": [
    "!python D:\\env_monitoring_platform\\backend\\weather_data_files\\prophet_weather_univariate_all.py"
   ]
  },
  {
   "cell_type": "code",
   "execution_count": null,
   "id": "55a59f1d-fba2-4a9d-a5fd-e72dc66fd748",
   "metadata": {},
   "outputs": [],
   "source": [
    "!python D:\\env_monitoring_platform\\backend\\weather_data_files\\sarima_weather_univariate.py"
   ]
  },
  {
   "cell_type": "code",
   "execution_count": null,
   "id": "481cbc85-16b7-4f7f-b56a-cc2278ec3c64",
   "metadata": {},
   "outputs": [],
   "source": [
    "!python D:\\env_monitoring_platform\\backend\\weather_data_files\\xgboost_univariate_weather.py"
   ]
  },
  {
   "cell_type": "code",
   "execution_count": null,
   "id": "c0ecfdf8-3b2e-4dc5-94f7-ca84c74f52c8",
   "metadata": {},
   "outputs": [],
   "source": [
    "!python D:\\env_monitoring_platform\\backend\\weather_data_files\\xgboost_multivariate_weather.py"
   ]
  },
  {
   "cell_type": "code",
   "execution_count": null,
   "id": "3b8b3017-30d2-4f88-a347-851c1c9735ae",
   "metadata": {},
   "outputs": [],
   "source": [
    "!python D:\\env_monitoring_platform\\backend\\utils\\consolidate_metrics.py"
   ]
  },
  {
   "cell_type": "code",
   "execution_count": null,
   "id": "6bffbe32-7f0c-4e87-a656-53b2ffd048ed",
   "metadata": {},
   "outputs": [],
   "source": [
    "!python D:\\env_monitoring_platform\\backend\\weather_data_files\\create_weather_metrics_summary.py"
   ]
  },
  {
   "cell_type": "code",
   "execution_count": null,
   "id": "0223a952-7e0a-4be2-9095-7dfec6cbcbda",
   "metadata": {},
   "outputs": [],
   "source": [
    "!python D:\\env_monitoring_platform\\backend\\weather_data_files\\plot_weather_model_metrics.py"
   ]
  },
  {
   "cell_type": "code",
   "execution_count": 1,
   "id": "07a698f9-de01-466f-b8c8-707a151367b5",
   "metadata": {},
   "outputs": [
    {
     "name": "stdout",
     "output_type": "stream",
     "text": [
      " Running Prophet forecast for: PM2.5\n",
      " Saved forecast plot: D:/env_monitoring_platform/backend/plots/air/prophet\\prophet_PM2.5_forecast.png\n",
      " Running Prophet forecast for: PM10\n",
      " Saved forecast plot: D:/env_monitoring_platform/backend/plots/air/prophet\\prophet_PM10_forecast.png\n",
      " Running Prophet forecast for: CO\n",
      " Saved forecast plot: D:/env_monitoring_platform/backend/plots/air/prophet\\prophet_CO_forecast.png\n",
      " Running Prophet forecast for: NO2\n",
      " Saved forecast plot: D:/env_monitoring_platform/backend/plots/air/prophet\\prophet_NO2_forecast.png\n",
      " Running Prophet forecast for: SO2\n",
      " Saved forecast plot: D:/env_monitoring_platform/backend/plots/air/prophet\\prophet_SO2_forecast.png\n",
      " Running Prophet forecast for: O3\n",
      " Saved forecast plot: D:/env_monitoring_platform/backend/plots/air/prophet\\prophet_O3_forecast.png\n",
      " Metrics saved to: D:/env_monitoring_platform/backend/ml/prophet_air_metrics.csv\n"
     ]
    },
    {
     "name": "stderr",
     "output_type": "stream",
     "text": [
      "Importing plotly failed. Interactive plots will not work.\n",
      "04:25:19 - cmdstanpy - INFO - Chain [1] start processing\n",
      "04:25:20 - cmdstanpy - INFO - Chain [1] done processing\n",
      "04:25:31 - cmdstanpy - INFO - Chain [1] start processing\n",
      "04:25:33 - cmdstanpy - INFO - Chain [1] done processing\n",
      "04:25:37 - cmdstanpy - INFO - Chain [1] start processing\n",
      "04:25:41 - cmdstanpy - INFO - Chain [1] done processing\n",
      "04:25:50 - cmdstanpy - INFO - Chain [1] start processing\n",
      "04:25:53 - cmdstanpy - INFO - Chain [1] done processing\n",
      "04:25:57 - cmdstanpy - INFO - Chain [1] start processing\n",
      "04:25:59 - cmdstanpy - INFO - Chain [1] done processing\n",
      "04:26:09 - cmdstanpy - INFO - Chain [1] start processing\n",
      "04:26:11 - cmdstanpy - INFO - Chain [1] done processing\n"
     ]
    }
   ],
   "source": [
    "!python D:\\env_monitoring_platform\\backend\\ml\\prophet_univariate.py"
   ]
  },
  {
   "cell_type": "code",
   "execution_count": 2,
   "id": "30fcd2c6-459a-4a59-8ec1-489f4d4296df",
   "metadata": {},
   "outputs": [
    {
     "name": "stdout",
     "output_type": "stream",
     "text": [
      "Running SARIMA for PM2.5...\n",
      "Saved plot: D:/env_monitoring_platform/backend/plots/air/sarima/sarima_pm25.png\n",
      "Running SARIMA for PM10...\n",
      "Saved plot: D:/env_monitoring_platform/backend/plots/air/sarima/sarima_pm10.png\n",
      "Running SARIMA for CO...\n",
      "Saved plot: D:/env_monitoring_platform/backend/plots/air/sarima/sarima_co.png\n",
      "Running SARIMA for NO2...\n",
      "Saved plot: D:/env_monitoring_platform/backend/plots/air/sarima/sarima_no2.png\n",
      "Running SARIMA for SO2...\n",
      "Saved plot: D:/env_monitoring_platform/backend/plots/air/sarima/sarima_so2.png\n",
      "Running SARIMA for O3...\n",
      "Saved plot: D:/env_monitoring_platform/backend/plots/air/sarima/sarima_o3.png\n",
      "Metrics saved to: D:/env_monitoring_platform/backend/ml/sarima_air_metrics.csv\n"
     ]
    },
    {
     "name": "stderr",
     "output_type": "stream",
     "text": [
      "E:\\anaconda3\\envs\\env_monitoring\\lib\\site-packages\\statsmodels\\tsa\\base\\tsa_model.py:473: ValueWarning: A date index has been provided, but it has no associated frequency information and so will be ignored when e.g. forecasting.\n",
      "  self._init_dates(dates, freq)\n",
      "E:\\anaconda3\\envs\\env_monitoring\\lib\\site-packages\\statsmodels\\tsa\\base\\tsa_model.py:473: ValueWarning: A date index has been provided, but it has no associated frequency information and so will be ignored when e.g. forecasting.\n",
      "  self._init_dates(dates, freq)\n",
      "E:\\anaconda3\\envs\\env_monitoring\\lib\\site-packages\\statsmodels\\tsa\\base\\tsa_model.py:836: ValueWarning: No supported index is available. Prediction results will be given with an integer index beginning at `start`.\n",
      "  return get_prediction_index(\n",
      "E:\\anaconda3\\envs\\env_monitoring\\lib\\site-packages\\statsmodels\\tsa\\base\\tsa_model.py:836: FutureWarning: No supported index is available. In the next version, calling this method in a model without a supported index will result in an exception.\n",
      "  return get_prediction_index(\n"
     ]
    }
   ],
   "source": [
    "!python D:\\env_monitoring_platform\\backend\\ml\\sarima_univariate.py"
   ]
  },
  {
   "cell_type": "code",
   "execution_count": 9,
   "id": "7b1b554f-6995-4336-b22d-b6a5b9ace0dd",
   "metadata": {},
   "outputs": [
    {
     "name": "stdout",
     "output_type": "stream",
     "text": [
      "Loaded 81102_all.csv: 267 monthly records\n",
      "\n",
      "Running XGBoost for PM2.5...\n",
      "Saved plot: D:/env_monitoring_platform/backend/plots/air/xgboost/xgboost_pm25.png\n",
      "Loaded 88101_all.csv: 306 monthly records\n",
      "\n",
      "Running XGBoost for PM10...\n",
      "Saved plot: D:/env_monitoring_platform/backend/plots/air/xgboost/xgboost_pm10.png\n",
      "Loaded 42101_all.csv: 360 monthly records\n",
      "\n",
      "Running XGBoost for CO...\n",
      "Saved plot: D:/env_monitoring_platform/backend/plots/air/xgboost/xgboost_co.png\n",
      "Loaded 42401_all.csv: 360 monthly records\n",
      "\n",
      "Running XGBoost for NO2...\n",
      "Saved plot: D:/env_monitoring_platform/backend/plots/air/xgboost/xgboost_no2.png\n",
      "Loaded 42602_all.csv: 360 monthly records\n",
      "\n",
      "Running XGBoost for SO2...\n",
      "Saved plot: D:/env_monitoring_platform/backend/plots/air/xgboost/xgboost_so2.png\n",
      "Loaded 44201_all.csv: 360 monthly records\n",
      "\n",
      "Running XGBoost for O3...\n",
      "Saved plot: D:/env_monitoring_platform/backend/plots/air/xgboost/xgboost_o3.png\n",
      "\n",
      "Saved metrics to: D:/env_monitoring_platform/backend/ml/xgboost_air_metrics.csv\n"
     ]
    }
   ],
   "source": [
    "!python D:\\env_monitoring_platform\\backend\\ml\\xgboost_univariate.py"
   ]
  },
  {
   "cell_type": "code",
   "execution_count": 10,
   "id": "c67bdefb-7ba7-4376-94e8-ada6cf6cfad8",
   "metadata": {},
   "outputs": [
    {
     "name": "stdout",
     "output_type": "stream",
     "text": [
      "Merged data shape: (10958, 7)\n",
      "\n",
      "--- Forecasting PM2.5 ---\n",
      "\n",
      "--- Forecasting PM10 ---\n",
      "\n",
      "--- Forecasting CO ---\n",
      "\n",
      "--- Forecasting SO2 ---\n",
      "\n",
      "--- Forecasting NO2 ---\n",
      "\n",
      "--- Forecasting O3 ---\n",
      "\n",
      "Saved metrics to: xgb_multivariate_metrics.csv\n",
      "  Pollutant    RMSE     MAE    MAPE\n",
      "0     PM2.5  4.4218  2.0655   33.77\n",
      "1      PM10  3.8773  2.2565   23.96\n",
      "2        CO  0.0471  0.0340   14.68\n",
      "3       SO2  0.6191  0.3670  108.02\n",
      "4       NO2  3.9213  3.0117   31.92\n",
      "5        O3  0.0045  0.0036   13.54\n"
     ]
    }
   ],
   "source": [
    "!python D:\\env_monitoring_platform\\backend\\ml\\xgboost_multivariate.py"
   ]
  },
  {
   "cell_type": "code",
   "execution_count": 14,
   "id": "c010a058-cf42-4ab5-9c9f-099436b2fce9",
   "metadata": {},
   "outputs": [
    {
     "name": "stdout",
     "output_type": "stream",
     "text": [
      " Consolidated evaluation metrics saved to D:\\env_monitoring_platform\\backend\\ml\\air_forecasting_metrics.csv\n"
     ]
    }
   ],
   "source": [
    "!python D:\\env_monitoring_platform\\backend\\utils\\metrics_summary_generator.py"
   ]
  },
  {
   "cell_type": "code",
   "execution_count": 15,
   "id": "bd39a486-1c38-4208-9ac0-c1e49c0ca734",
   "metadata": {},
   "outputs": [
    {
     "name": "stdout",
     "output_type": "stream",
     "text": [
      "Saved combined metrics to 'air_quality_combined_metrics.csv'\n"
     ]
    }
   ],
   "source": [
    "!python D:\\env_monitoring_platform\\backend\\utils\\merge_air_quality_metrics.py"
   ]
  },
  {
   "cell_type": "code",
   "execution_count": 17,
   "id": "4c30f565-d1ed-4bfd-b9f2-d19096b42a83",
   "metadata": {},
   "outputs": [
    {
     "name": "stdout",
     "output_type": "stream",
     "text": [
      "Saved: ../plots/air/bar_charts\\air_quality_comparison_rmse.png\n",
      "Saved: ../plots/air/bar_charts\\air_quality_comparison_mae.png\n",
      "Saved: ../plots/air/bar_charts\\air_quality_comparison_mape.png\n"
     ]
    }
   ],
   "source": [
    "!python D:\\env_monitoring_platform\\backend\\utils\\generate_air_quality_bar_charts_combined.py"
   ]
  },
  {
   "cell_type": "code",
   "execution_count": 22,
   "id": "f6a06961-3bc6-4995-90a7-196a0b5e5432",
   "metadata": {},
   "outputs": [
    {
     "name": "stdout",
     "output_type": "stream",
     "text": [
      "Combined air data saved to: D:\\env_monitoring_platform\\backend\\ml\\combined_air_data.csv\n"
     ]
    }
   ],
   "source": [
    "!python D:\\env_monitoring_platform\\backend\\ml\\combine_air_pollutants.py"
   ]
  },
  {
   "cell_type": "code",
   "execution_count": 23,
   "id": "5e85a251-e88f-4a9d-89d2-75aa6089000a",
   "metadata": {},
   "outputs": [
    {
     "name": "stdout",
     "output_type": "stream",
     "text": [
      "Air quality heatmap saved to: D:/env_monitoring_platform/backend/plots/air/air_corr_heatmap.png\n"
     ]
    }
   ],
   "source": [
    "!python D:\\env_monitoring_platform\\backend\\utils\\air_corr_heatmap.py"
   ]
  },
  {
   "cell_type": "code",
   "execution_count": null,
   "id": "41d92b08-9938-4958-95d7-254bbbc15f5c",
   "metadata": {},
   "outputs": [],
   "source": []
  }
 ],
 "metadata": {
  "kernelspec": {
   "display_name": "Python 3 (ipykernel)",
   "language": "python",
   "name": "python3"
  },
  "language_info": {
   "codemirror_mode": {
    "name": "ipython",
    "version": 3
   },
   "file_extension": ".py",
   "mimetype": "text/x-python",
   "name": "python",
   "nbconvert_exporter": "python",
   "pygments_lexer": "ipython3",
   "version": "3.8.20"
  }
 },
 "nbformat": 4,
 "nbformat_minor": 5
}
